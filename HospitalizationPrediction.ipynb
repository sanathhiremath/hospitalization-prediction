{
 "cells": [
  {
   "cell_type": "code",
   "execution_count": 105,
   "metadata": {
    "tags": []
   },
   "outputs": [],
   "source": [
    "# !pip install pandas numpy scikit-learn seaborn matplotlib missingno nltk imbalanced-learn"
   ]
  },
  {
   "cell_type": "code",
   "execution_count": 106,
   "metadata": {
    "tags": []
   },
   "outputs": [],
   "source": [
    "# import sys\n",
    "# print(sys.version)"
   ]
  },
  {
   "cell_type": "code",
   "execution_count": 107,
   "metadata": {
    "colab": {
     "base_uri": "https://localhost:8080/"
    },
    "executionInfo": {
     "elapsed": 361,
     "status": "ok",
     "timestamp": 1699382353813,
     "user": {
      "displayName": "Sanath Hiremath",
      "userId": "07180903460356351243"
     },
     "user_tz": 480
    },
    "id": "nQfunAn5wJ2J",
    "outputId": "336c887a-e96e-4824-8713-571c79b98f1d"
   },
   "outputs": [],
   "source": [
    "# Import necessary libraries\n",
    "import pandas as pd\n",
    "import numpy as np\n",
    "from sklearn.model_selection import train_test_split\n",
    "from sklearn.naive_bayes import GaussianNB\n",
    "from sklearn.svm import SVC\n",
    "import seaborn as sns\n",
    "import matplotlib.pyplot as plt\n",
    "import missingno as misno\n",
    "import re\n",
    "import string\n",
    "# from imblearn.over_sampling import SMOTE\n",
    "\n",
    "# Import NLTK(Natural Language Toolkit) for text processing\n",
    "import nltk\n",
    "# nltk.download('punkt')\n",
    "# nltk.download('stopwords')\n",
    "from nltk.corpus import stopwords\n",
    "from nltk.tokenize import word_tokenize"
   ]
  },
  {
   "cell_type": "code",
   "execution_count": 108,
   "metadata": {
    "colab": {
     "base_uri": "https://localhost:8080/"
    },
    "executionInfo": {
     "elapsed": 6,
     "status": "ok",
     "timestamp": 1699382354229,
     "user": {
      "displayName": "Sanath Hiremath",
      "userId": "07180903460356351243"
     },
     "user_tz": 480
    },
    "id": "Vcm_LvcWkiZ6",
    "outputId": "cab5ffb0-39e8-4e0c-cf26-cbe670764de9"
   },
   "outputs": [
    {
     "name": "stdout",
     "output_type": "stream",
     "text": [
      "<class 'pandas.core.frame.DataFrame'>\n",
      "RangeIndex: 1267 entries, 0 to 1266\n",
      "Data columns (total 24 columns):\n",
      " #   Column                    Non-Null Count  Dtype \n",
      "---  ------                    --------------  ----- \n",
      " 0   Group                     1267 non-null   int64 \n",
      " 1   Sex                       1267 non-null   int64 \n",
      " 2   Age                       1267 non-null   int64 \n",
      " 3   Patients number per hour  1267 non-null   int64 \n",
      " 4   Arrival mode              1267 non-null   int64 \n",
      " 5   Injury                    1267 non-null   int64 \n",
      " 6   Chief_complain            1267 non-null   object\n",
      " 7   Mental                    1267 non-null   int64 \n",
      " 8   Pain                      1267 non-null   int64 \n",
      " 9   NRS_pain                  1267 non-null   object\n",
      " 10  SBP                       1267 non-null   object\n",
      " 11  DBP                       1267 non-null   object\n",
      " 12  HR                        1267 non-null   object\n",
      " 13  RR                        1267 non-null   object\n",
      " 14  BT                        1267 non-null   object\n",
      " 15  Saturation                579 non-null    object\n",
      " 16  KTAS_RN                   1267 non-null   int64 \n",
      " 17  Diagnosis in ED           1265 non-null   object\n",
      " 18  Disposition               1267 non-null   int64 \n",
      " 19  KTAS_expert               1267 non-null   int64 \n",
      " 20  Error_group               1267 non-null   int64 \n",
      " 21  Length of stay_min        1267 non-null   int64 \n",
      " 22  KTAS duration_min         1267 non-null   object\n",
      " 23  mistriage                 1267 non-null   int64 \n",
      "dtypes: int64(14), object(10)\n",
      "memory usage: 237.7+ KB\n"
     ]
    }
   ],
   "source": [
    "data = pd.read_csv(\"Dataset.csv\")\n",
    "data.info()"
   ]
  },
  {
   "cell_type": "code",
   "execution_count": 109,
   "metadata": {
    "tags": []
   },
   "outputs": [
    {
     "ename": "ConversionError",
     "evalue": "Failed to convert value(s) to axis units: array(['right ocular pain', 'right forearm burn', 'arm pain, Lt', ...,\n       'dizziness', 'Sensory, Decreased', 'orthopnea'], dtype=object)",
     "output_type": "error",
     "traceback": [
      "\u001b[1;31m---------------------------------------------------------------------------\u001b[0m",
      "\u001b[1;31mValueError\u001b[0m                                Traceback (most recent call last)",
      "File \u001b[1;32m~\\anaconda3\\envs\\py3_11_5\\Lib\\site-packages\\matplotlib\\axis.py:1769\u001b[0m, in \u001b[0;36mAxis.convert_units\u001b[1;34m(self, x)\u001b[0m\n\u001b[0;32m   1768\u001b[0m \u001b[38;5;28;01mtry\u001b[39;00m:\n\u001b[1;32m-> 1769\u001b[0m     ret \u001b[38;5;241m=\u001b[39m \u001b[38;5;28mself\u001b[39m\u001b[38;5;241m.\u001b[39mconverter\u001b[38;5;241m.\u001b[39mconvert(x, \u001b[38;5;28mself\u001b[39m\u001b[38;5;241m.\u001b[39munits, \u001b[38;5;28mself\u001b[39m)\n\u001b[0;32m   1770\u001b[0m \u001b[38;5;28;01mexcept\u001b[39;00m \u001b[38;5;167;01mException\u001b[39;00m \u001b[38;5;28;01mas\u001b[39;00m e:\n",
      "File \u001b[1;32m~\\anaconda3\\envs\\py3_11_5\\Lib\\site-packages\\matplotlib\\category.py:49\u001b[0m, in \u001b[0;36mStrCategoryConverter.convert\u001b[1;34m(value, unit, axis)\u001b[0m\n\u001b[0;32m     48\u001b[0m \u001b[38;5;28;01mif\u001b[39;00m unit \u001b[38;5;129;01mis\u001b[39;00m \u001b[38;5;28;01mNone\u001b[39;00m:\n\u001b[1;32m---> 49\u001b[0m     \u001b[38;5;28;01mraise\u001b[39;00m \u001b[38;5;167;01mValueError\u001b[39;00m(\n\u001b[0;32m     50\u001b[0m         \u001b[38;5;124m'\u001b[39m\u001b[38;5;124mMissing category information for StrCategoryConverter; \u001b[39m\u001b[38;5;124m'\u001b[39m\n\u001b[0;32m     51\u001b[0m         \u001b[38;5;124m'\u001b[39m\u001b[38;5;124mthis might be caused by unintendedly mixing categorical and \u001b[39m\u001b[38;5;124m'\u001b[39m\n\u001b[0;32m     52\u001b[0m         \u001b[38;5;124m'\u001b[39m\u001b[38;5;124mnumeric data\u001b[39m\u001b[38;5;124m'\u001b[39m)\n\u001b[0;32m     53\u001b[0m StrCategoryConverter\u001b[38;5;241m.\u001b[39m_validate_unit(unit)\n",
      "\u001b[1;31mValueError\u001b[0m: Missing category information for StrCategoryConverter; this might be caused by unintendedly mixing categorical and numeric data",
      "\nThe above exception was the direct cause of the following exception:\n",
      "\u001b[1;31mConversionError\u001b[0m                           Traceback (most recent call last)",
      "Cell \u001b[1;32mIn[109], line 2\u001b[0m\n\u001b[0;32m      1\u001b[0m \u001b[38;5;28;01mimport\u001b[39;00m \u001b[38;5;21;01mmatplotlib\u001b[39;00m\u001b[38;5;21;01m.\u001b[39;00m\u001b[38;5;21;01mpyplot\u001b[39;00m \u001b[38;5;28;01mas\u001b[39;00m \u001b[38;5;21;01mplt\u001b[39;00m\n\u001b[1;32m----> 2\u001b[0m plt\u001b[38;5;241m.\u001b[39mhist(data, bins\u001b[38;5;241m=\u001b[39m\u001b[38;5;124m'\u001b[39m\u001b[38;5;124mauto\u001b[39m\u001b[38;5;124m'\u001b[39m, alpha\u001b[38;5;241m=\u001b[39m\u001b[38;5;241m0.7\u001b[39m,  edgecolor\u001b[38;5;241m=\u001b[39m\u001b[38;5;124m'\u001b[39m\u001b[38;5;124mblack\u001b[39m\u001b[38;5;124m'\u001b[39m)\n\u001b[0;32m      3\u001b[0m plt\u001b[38;5;241m.\u001b[39mtitle(\u001b[38;5;124m'\u001b[39m\u001b[38;5;124mHistogram of Your Data\u001b[39m\u001b[38;5;124m'\u001b[39m)\n\u001b[0;32m      4\u001b[0m plt\u001b[38;5;241m.\u001b[39mshow()\n",
      "File \u001b[1;32m~\\anaconda3\\envs\\py3_11_5\\Lib\\site-packages\\matplotlib\\pyplot.py:3224\u001b[0m, in \u001b[0;36mhist\u001b[1;34m(x, bins, range, density, weights, cumulative, bottom, histtype, align, orientation, rwidth, log, color, label, stacked, data, **kwargs)\u001b[0m\n\u001b[0;32m   3199\u001b[0m \u001b[38;5;129m@_copy_docstring_and_deprecators\u001b[39m(Axes\u001b[38;5;241m.\u001b[39mhist)\n\u001b[0;32m   3200\u001b[0m \u001b[38;5;28;01mdef\u001b[39;00m \u001b[38;5;21mhist\u001b[39m(\n\u001b[0;32m   3201\u001b[0m     x: ArrayLike \u001b[38;5;241m|\u001b[39m Sequence[ArrayLike],\n\u001b[1;32m   (...)\u001b[0m\n\u001b[0;32m   3222\u001b[0m     BarContainer \u001b[38;5;241m|\u001b[39m Polygon \u001b[38;5;241m|\u001b[39m \u001b[38;5;28mlist\u001b[39m[BarContainer \u001b[38;5;241m|\u001b[39m Polygon],\n\u001b[0;32m   3223\u001b[0m ]:\n\u001b[1;32m-> 3224\u001b[0m     \u001b[38;5;28;01mreturn\u001b[39;00m gca()\u001b[38;5;241m.\u001b[39mhist(\n\u001b[0;32m   3225\u001b[0m         x,\n\u001b[0;32m   3226\u001b[0m         bins\u001b[38;5;241m=\u001b[39mbins,\n\u001b[0;32m   3227\u001b[0m         \u001b[38;5;28mrange\u001b[39m\u001b[38;5;241m=\u001b[39m\u001b[38;5;28mrange\u001b[39m,\n\u001b[0;32m   3228\u001b[0m         density\u001b[38;5;241m=\u001b[39mdensity,\n\u001b[0;32m   3229\u001b[0m         weights\u001b[38;5;241m=\u001b[39mweights,\n\u001b[0;32m   3230\u001b[0m         cumulative\u001b[38;5;241m=\u001b[39mcumulative,\n\u001b[0;32m   3231\u001b[0m         bottom\u001b[38;5;241m=\u001b[39mbottom,\n\u001b[0;32m   3232\u001b[0m         histtype\u001b[38;5;241m=\u001b[39mhisttype,\n\u001b[0;32m   3233\u001b[0m         align\u001b[38;5;241m=\u001b[39malign,\n\u001b[0;32m   3234\u001b[0m         orientation\u001b[38;5;241m=\u001b[39morientation,\n\u001b[0;32m   3235\u001b[0m         rwidth\u001b[38;5;241m=\u001b[39mrwidth,\n\u001b[0;32m   3236\u001b[0m         log\u001b[38;5;241m=\u001b[39mlog,\n\u001b[0;32m   3237\u001b[0m         color\u001b[38;5;241m=\u001b[39mcolor,\n\u001b[0;32m   3238\u001b[0m         label\u001b[38;5;241m=\u001b[39mlabel,\n\u001b[0;32m   3239\u001b[0m         stacked\u001b[38;5;241m=\u001b[39mstacked,\n\u001b[0;32m   3240\u001b[0m         \u001b[38;5;241m*\u001b[39m\u001b[38;5;241m*\u001b[39m({\u001b[38;5;124m\"\u001b[39m\u001b[38;5;124mdata\u001b[39m\u001b[38;5;124m\"\u001b[39m: data} \u001b[38;5;28;01mif\u001b[39;00m data \u001b[38;5;129;01mis\u001b[39;00m \u001b[38;5;129;01mnot\u001b[39;00m \u001b[38;5;28;01mNone\u001b[39;00m \u001b[38;5;28;01melse\u001b[39;00m {}),\n\u001b[0;32m   3241\u001b[0m         \u001b[38;5;241m*\u001b[39m\u001b[38;5;241m*\u001b[39mkwargs,\n\u001b[0;32m   3242\u001b[0m     )\n",
      "File \u001b[1;32m~\\anaconda3\\envs\\py3_11_5\\Lib\\site-packages\\matplotlib\\__init__.py:1478\u001b[0m, in \u001b[0;36m_preprocess_data.<locals>.inner\u001b[1;34m(ax, data, *args, **kwargs)\u001b[0m\n\u001b[0;32m   1475\u001b[0m \u001b[38;5;129m@functools\u001b[39m\u001b[38;5;241m.\u001b[39mwraps(func)\n\u001b[0;32m   1476\u001b[0m \u001b[38;5;28;01mdef\u001b[39;00m \u001b[38;5;21minner\u001b[39m(ax, \u001b[38;5;241m*\u001b[39margs, data\u001b[38;5;241m=\u001b[39m\u001b[38;5;28;01mNone\u001b[39;00m, \u001b[38;5;241m*\u001b[39m\u001b[38;5;241m*\u001b[39mkwargs):\n\u001b[0;32m   1477\u001b[0m     \u001b[38;5;28;01mif\u001b[39;00m data \u001b[38;5;129;01mis\u001b[39;00m \u001b[38;5;28;01mNone\u001b[39;00m:\n\u001b[1;32m-> 1478\u001b[0m         \u001b[38;5;28;01mreturn\u001b[39;00m func(ax, \u001b[38;5;241m*\u001b[39m\u001b[38;5;28mmap\u001b[39m(sanitize_sequence, args), \u001b[38;5;241m*\u001b[39m\u001b[38;5;241m*\u001b[39mkwargs)\n\u001b[0;32m   1480\u001b[0m     bound \u001b[38;5;241m=\u001b[39m new_sig\u001b[38;5;241m.\u001b[39mbind(ax, \u001b[38;5;241m*\u001b[39margs, \u001b[38;5;241m*\u001b[39m\u001b[38;5;241m*\u001b[39mkwargs)\n\u001b[0;32m   1481\u001b[0m     auto_label \u001b[38;5;241m=\u001b[39m (bound\u001b[38;5;241m.\u001b[39marguments\u001b[38;5;241m.\u001b[39mget(label_namer)\n\u001b[0;32m   1482\u001b[0m                   \u001b[38;5;129;01mor\u001b[39;00m bound\u001b[38;5;241m.\u001b[39mkwargs\u001b[38;5;241m.\u001b[39mget(label_namer))\n",
      "File \u001b[1;32m~\\anaconda3\\envs\\py3_11_5\\Lib\\site-packages\\matplotlib\\axes\\_axes.py:6780\u001b[0m, in \u001b[0;36mAxes.hist\u001b[1;34m(self, x, bins, range, density, weights, cumulative, bottom, histtype, align, orientation, rwidth, log, color, label, stacked, **kwargs)\u001b[0m\n\u001b[0;32m   6778\u001b[0m \u001b[38;5;28;01mif\u001b[39;00m orientation \u001b[38;5;241m==\u001b[39m \u001b[38;5;124m\"\u001b[39m\u001b[38;5;124mvertical\u001b[39m\u001b[38;5;124m\"\u001b[39m:\n\u001b[0;32m   6779\u001b[0m     convert_units \u001b[38;5;241m=\u001b[39m \u001b[38;5;28mself\u001b[39m\u001b[38;5;241m.\u001b[39mconvert_xunits\n\u001b[1;32m-> 6780\u001b[0m     x \u001b[38;5;241m=\u001b[39m [\u001b[38;5;241m*\u001b[39m\u001b[38;5;28mself\u001b[39m\u001b[38;5;241m.\u001b[39m_process_unit_info([(\u001b[38;5;124m\"\u001b[39m\u001b[38;5;124mx\u001b[39m\u001b[38;5;124m\"\u001b[39m, x[\u001b[38;5;241m0\u001b[39m])], kwargs),\n\u001b[0;32m   6781\u001b[0m          \u001b[38;5;241m*\u001b[39m\u001b[38;5;28mmap\u001b[39m(convert_units, x[\u001b[38;5;241m1\u001b[39m:])]\n\u001b[0;32m   6782\u001b[0m \u001b[38;5;28;01melse\u001b[39;00m:  \u001b[38;5;66;03m# horizontal\u001b[39;00m\n\u001b[0;32m   6783\u001b[0m     convert_units \u001b[38;5;241m=\u001b[39m \u001b[38;5;28mself\u001b[39m\u001b[38;5;241m.\u001b[39mconvert_yunits\n",
      "File \u001b[1;32m~\\anaconda3\\envs\\py3_11_5\\Lib\\site-packages\\matplotlib\\artist.py:279\u001b[0m, in \u001b[0;36mArtist.convert_xunits\u001b[1;34m(self, x)\u001b[0m\n\u001b[0;32m    277\u001b[0m \u001b[38;5;28;01mif\u001b[39;00m ax \u001b[38;5;129;01mis\u001b[39;00m \u001b[38;5;28;01mNone\u001b[39;00m \u001b[38;5;129;01mor\u001b[39;00m ax\u001b[38;5;241m.\u001b[39mxaxis \u001b[38;5;129;01mis\u001b[39;00m \u001b[38;5;28;01mNone\u001b[39;00m:\n\u001b[0;32m    278\u001b[0m     \u001b[38;5;28;01mreturn\u001b[39;00m x\n\u001b[1;32m--> 279\u001b[0m \u001b[38;5;28;01mreturn\u001b[39;00m ax\u001b[38;5;241m.\u001b[39mxaxis\u001b[38;5;241m.\u001b[39mconvert_units(x)\n",
      "File \u001b[1;32m~\\anaconda3\\envs\\py3_11_5\\Lib\\site-packages\\matplotlib\\axis.py:1771\u001b[0m, in \u001b[0;36mAxis.convert_units\u001b[1;34m(self, x)\u001b[0m\n\u001b[0;32m   1769\u001b[0m     ret \u001b[38;5;241m=\u001b[39m \u001b[38;5;28mself\u001b[39m\u001b[38;5;241m.\u001b[39mconverter\u001b[38;5;241m.\u001b[39mconvert(x, \u001b[38;5;28mself\u001b[39m\u001b[38;5;241m.\u001b[39munits, \u001b[38;5;28mself\u001b[39m)\n\u001b[0;32m   1770\u001b[0m \u001b[38;5;28;01mexcept\u001b[39;00m \u001b[38;5;167;01mException\u001b[39;00m \u001b[38;5;28;01mas\u001b[39;00m e:\n\u001b[1;32m-> 1771\u001b[0m     \u001b[38;5;28;01mraise\u001b[39;00m munits\u001b[38;5;241m.\u001b[39mConversionError(\u001b[38;5;124m'\u001b[39m\u001b[38;5;124mFailed to convert value(s) to axis \u001b[39m\u001b[38;5;124m'\u001b[39m\n\u001b[0;32m   1772\u001b[0m                                  \u001b[38;5;124mf\u001b[39m\u001b[38;5;124m'\u001b[39m\u001b[38;5;124munits: \u001b[39m\u001b[38;5;132;01m{\u001b[39;00mx\u001b[38;5;132;01m!r}\u001b[39;00m\u001b[38;5;124m'\u001b[39m) \u001b[38;5;28;01mfrom\u001b[39;00m \u001b[38;5;21;01me\u001b[39;00m\n\u001b[0;32m   1773\u001b[0m \u001b[38;5;28;01mreturn\u001b[39;00m ret\n",
      "\u001b[1;31mConversionError\u001b[0m: Failed to convert value(s) to axis units: array(['right ocular pain', 'right forearm burn', 'arm pain, Lt', ...,\n       'dizziness', 'Sensory, Decreased', 'orthopnea'], dtype=object)"
     ]
    },
    {
     "data": {
      "image/png": "[encoded data removed]",
      "text/plain": [
       "<Figure size 640x480 with 1 Axes>"
      ]
     },
     "metadata": {},
     "output_type": "display_data"
    }
   ],
   "source": [
    "import matplotlib.pyplot as plt\n",
    "plt.hist(data, bins='auto', alpha=0.7,  edgecolor='black')\n",
    "plt.title('Histogram of Your Data')\n",
    "plt.show()\n"
   ]
  },
  {
   "cell_type": "markdown",
   "metadata": {
    "tags": []
   },
   "source": [
    "#### Data Preprocessing"
   ]
  },
  {
   "cell_type": "code",
   "execution_count": null,
   "metadata": {
    "colab": {
     "base_uri": "https://localhost:8080/",
     "height": 206
    },
    "executionInfo": {
     "elapsed": 4,
     "status": "ok",
     "timestamp": 1699382354457,
     "user": {
      "displayName": "Sanath Hiremath",
      "userId": "07180903460356351243"
     },
     "user_tz": 480
    },
    "id": "yysr7EhV-KDc",
    "outputId": "eb9298c4-aacd-4137-d78b-42901bb5087f"
   },
   "outputs": [],
   "source": [
    "# data = pd.read_csv(\"Dataset.csv\")\n",
    "\n",
    "columns_to_drop = ['Chief_complain', 'Diagnosis in ED','Error_group', 'KTAS duration_min', 'mistriage','Group','Patients number per hour','Length of stay_min']\n",
    "data.drop(columns=columns_to_drop, inplace=True)\n",
    "\n",
    "data = data.rename(columns={'Disposition':'hospitalized','Arrival mode':'arrivalmode'})\n",
    "data.columns = [col.lower() for col in data.columns]\n",
    "\n",
    "data['hospitalized'] = data['hospitalized'].replace({1:0, 2:1, 3:1, 4:0,5:1,6:0,7:1})\n",
    "data['sex'] = data['sex'].replace({1:0,2:1})\n",
    "data['injury'] = data['injury'].replace({1:0,2:1})\n",
    "data = data[[col for col in data.columns if col != 'hospitalized'] + ['hospitalized']]\n",
    "data.head()"
   ]
  },
  {
   "cell_type": "code",
   "execution_count": null,
   "metadata": {
    "executionInfo": {
     "elapsed": 10,
     "status": "ok",
     "timestamp": 1699382371771,
     "user": {
      "displayName": "Sanath Hiremath",
      "userId": "07180903460356351243"
     },
     "user_tz": 480
    },
    "id": "COqsJgyVfwjn"
   },
   "outputs": [],
   "source": [
    "# # Create a pairplot\n",
    "# sns.set(style=\"ticks\")\n",
    "# sns.pairplot(data, diag_kind=\"kde\", hue=\"hospitalized\")\n",
    "\n",
    "# # Show the plot\n",
    "# plt.show()"
   ]
  },
  {
   "cell_type": "code",
   "execution_count": null,
   "metadata": {
    "executionInfo": {
     "elapsed": 9,
     "status": "aborted",
     "timestamp": 1699382373209,
     "user": {
      "displayName": "Sanath Hiremath",
      "userId": "07180903460356351243"
     },
     "user_tz": 480
    },
    "id": "Wt01WLawEMwh"
   },
   "outputs": [],
   "source": [
    "# List of columns to clean and convert\n",
    "\n",
    "columns_to_clean = ['nrs_pain', 'sbp', 'dbp', 'hr', 'rr', 'bt', 'saturation']\n",
    "for column in columns_to_clean:\n",
    "    data[column] = data[column].replace({'#BOŞ!': np.NaN, '??': np.NaN}).astype(float)\n",
    "\n",
    "data.info()"
   ]
  },
  {
   "cell_type": "code",
   "execution_count": null,
   "metadata": {},
   "outputs": [],
   "source": [
    "def missingValues(data):\n",
    "    variables_NA = [col for col in data.columns if data[col].isnull().sum() > 0]\n",
    "    n_miss = data[variables_NA].isnull().sum().sort_values(ascending=False)\n",
    "    ratio = (data[variables_NA].isnull().sum() / data.shape[0] * 100).sort_values(ascending=False)\n",
    "    missing_data = pd.concat([n_miss, np.round(ratio, 2)], axis=1, keys=['n_miss', 'ratio'])\n",
    "    return missing_data\n",
    "\n",
    "missing_data = missingValues(data)\n",
    "\n",
    "def columns_with_null_values(data):\n",
    "    columns_with_na = data.columns[data.isnull().any()].tolist()\n",
    "    return columns_with_na\n",
    "\n",
    "columns_with_null = columns_with_null_values(data)\n",
    "\n",
    "print(missing_data)\n",
    "    \n",
    "# Create a bar plot for missing values\n",
    "plt.figure(figsize=(10, 6))\n",
    "bars = plt.bar(missing_data.index, missing_data['ratio'], color='skyblue')\n",
    "plt.xlabel('Features')\n",
    "plt.ylabel('Percentage of Missing Values')\n",
    "plt.title('Missing Values by Feature')\n",
    "plt.xticks(rotation=90)\n",
    "\n",
    "# Annotate the bars with 'n_miss' and 'ratio' values\n",
    "for bar, n_miss, ratio in zip(bars, missing_data['n_miss'], missing_data['ratio']):\n",
    "        plt.text(bar.get_x() + bar.get_width() / 2-0.15, bar.get_height() + 1, f'{ratio}%', fontsize=9, color='black')\n",
    "\n",
    "plt.tight_layout()\n",
    "plt.show()"
   ]
  },
  {
   "cell_type": "code",
   "execution_count": null,
   "metadata": {
    "tags": []
   },
   "outputs": [],
   "source": [
    "for column in data.columns:\n",
    "    # Check if the column is non-numeric (categorical or discrete)\n",
    "    if data[column].dtype == \"object\" or data[column].dtype == \"int64\":\n",
    "        # Count the occurrences of each unique value in the column\n",
    "        value_counts = data[column].value_counts()\n",
    "\n",
    "        # Create a bar plot\n",
    "        plt.figure(figsize=(8, 4))  # Adjust the figure size as needed\n",
    "        sns.barplot(x=value_counts.index, y=value_counts.values, hue=value_counts.index, palette=\"tab10\", legend=False)\n",
    "        plt.title(f'Bar Plot for {column}')\n",
    "        plt.xlabel(column)\n",
    "        plt.ylabel('Count')\n",
    "        plt.xticks(rotation=45)  # Rotate x-axis labels if necessary\n",
    "\n",
    "        # Show the plot\n",
    "        plt.show()"
   ]
  },
  {
   "cell_type": "code",
   "execution_count": null,
   "metadata": {
    "tags": []
   },
   "outputs": [],
   "source": [
    "# Specify the columns you want to plot\n",
    "columns_to_plot = data.columns\n",
    "\n",
    "# Set the number of columns per row\n",
    "columns_per_row = 2\n",
    "\n",
    "# Calculate the number of rows needed\n",
    "num_rows = (len(columns_to_plot) // columns_per_row) + 1\n",
    "\n",
    "# Create subplots\n",
    "fig, ax = plt.subplots(num_rows, columns_per_row, figsize=(15, num_rows * 3))\n",
    "\n",
    "# Flatten the axis array to make indexing easier\n",
    "ax = ax.flatten()\n",
    "\n",
    "# Loop through columns and create subplots\n",
    "for i, column in enumerate(columns_to_plot):\n",
    "    sns.countplot(x=column, data=data, ax=ax[i])\n",
    "    ax[i].set_title(f'Count Plot for {column}')\n",
    "    ax[i].set_ylabel('Count')\n",
    "\n",
    "# Adjust layout\n",
    "plt.tight_layout()\n",
    "plt.show()"
   ]
  },
  {
   "cell_type": "code",
   "execution_count": null,
   "metadata": {
    "colab": {
     "base_uri": "https://localhost:8080/",
     "height": 903
    },
    "executionInfo": {
     "elapsed": 1441,
     "status": "ok",
     "timestamp": 1699382373208,
     "user": {
      "displayName": "Sanath Hiremath",
      "userId": "07180903460356351243"
     },
     "user_tz": 480
    },
    "id": "bUusT03anc0O",
    "outputId": "a20aa0aa-de1c-47fd-9662-5bf38d7ffc2b"
   },
   "outputs": [],
   "source": [
    "# !pip install missingno\n",
    "\n",
    "misno.bar(data)\n",
    "\n",
    "\n",
    "# # Define custom colors for missing and non-missing values\n",
    "# missing_color = (0.8, 0.2, 0.2)  # Red color for missing values\n",
    "# existing_color = (0.2, 0.4, 0.8)  # Blue color for non-missing values\n",
    "\n",
    "# # Create a colorful missing values bar plot\n",
    "# misno.bar(data, color=(existing_color, missing_color))\n",
    "\n",
    "# # Set custom labels for the plot\n",
    "# plt.xlabel(\"Features\", fontsize=14)\n",
    "# plt.ylabel(\"Percentage of Missing Values\", fontsize=14)\n",
    "# plt.title(\"Missing Values Matrix\", fontsize=16)\n",
    "\n",
    "# # Show the plot\n",
    "# plt.show()"
   ]
  },
  {
   "cell_type": "code",
   "execution_count": null,
   "metadata": {
    "colab": {
     "base_uri": "https://localhost:8080/"
    },
    "executionInfo": {
     "elapsed": 13,
     "status": "ok",
     "timestamp": 1699382373208,
     "user": {
      "displayName": "Sanath Hiremath",
      "userId": "07180903460356351243"
     },
     "user_tz": 480
    },
    "id": "SH_2NL96nnyC",
    "outputId": "fbdc69fc-a37a-40b3-d3e8-3ad341c33e98"
   },
   "outputs": [],
   "source": [
    "data.isnull().values.any()"
   ]
  },
  {
   "cell_type": "code",
   "execution_count": null,
   "metadata": {},
   "outputs": [],
   "source": [
    "sns.heatmap(data.isnull(),yticklabels=False,cbar=False,cmap='viridis')"
   ]
  },
  {
   "cell_type": "code",
   "execution_count": null,
   "metadata": {
    "tags": []
   },
   "outputs": [],
   "source": [
    "sns.boxplot(x=data['saturation'])\n",
    "plt.show()"
   ]
  },
  {
   "cell_type": "code",
   "execution_count": null,
   "metadata": {},
   "outputs": [],
   "source": [
    "correlation_matrix = data.corr(method='pearson')\n",
    "\n",
    "plt.figure(figsize=(20, 8))\n",
    "sns.heatmap(correlation_matrix, annot=True, cmap='coolwarm', linewidths=.5)\n",
    "plt.title('Correlation Matrix')\n",
    "plt.show()"
   ]
  },
  {
   "cell_type": "code",
   "execution_count": null,
   "metadata": {},
   "outputs": [],
   "source": [
    "def impute_nan(df,variable):    \n",
    "    df[variable+\"_random\"]=df[variable]\n",
    "    ##It will have the random sample to fill the na\n",
    "    random_sample=df[variable].dropna().sample(df[variable].isnull().sum(),random_state=0)\n",
    "    ##pandas need to have same index in order to merge the dataset\n",
    "    random_sample.index=df[df[variable].isnull()].index\n",
    "    df.loc[df[variable].isnull(),variable+'_random']=random_sample"
   ]
  },
  {
   "cell_type": "code",
   "execution_count": null,
   "metadata": {},
   "outputs": [],
   "source": [
    "data_imputation =[\"nrs_pain\",\"rr\",\"hr\",\"sbp\",\"dbp\",\"bt\"]\n",
    "\n",
    "for i in data_imputation:\n",
    "    impute_nan(data,i)"
   ]
  },
  {
   "cell_type": "code",
   "execution_count": null,
   "metadata": {},
   "outputs": [],
   "source": [
    "fig = plt.figure()\n",
    "ax = fig.add_subplot(111)\n",
    "data['nrs_pain'].plot(kind='kde', ax=ax)\n",
    "# data.nrs_pain_median.plot(kind='kde', ax=ax, color='red')\n",
    "data.nrs_pain_random.plot(kind='kde', ax=ax, color='green')\n",
    "lines, labels = ax.get_legend_handles_labels()\n",
    "ax.legend(lines, labels, loc='best')"
   ]
  },
  {
   "cell_type": "code",
   "execution_count": null,
   "metadata": {
    "tags": []
   },
   "outputs": [],
   "source": [
    "fig = plt.figure()\n",
    "ax = fig.add_subplot(111)\n",
    "data['sbp_random'].plot(kind='kde', ax=ax)\n",
    "# data.nrs_pain_median.plot(kind='kde', ax=ax, color='red')\n",
    "data.sbp_random.plot(kind='kde', ax=ax, color='green')\n",
    "lines, labels = ax.get_legend_handles_labels()\n",
    "ax.legend(lines, labels, loc='best')"
   ]
  },
  {
   "cell_type": "code",
   "execution_count": null,
   "metadata": {
    "colab": {
     "base_uri": "https://localhost:8080/",
     "height": 338
    },
    "executionInfo": {
     "elapsed": 11,
     "status": "error",
     "timestamp": 1699382373208,
     "user": {
      "displayName": "Sanath Hiremath",
      "userId": "07180903460356351243"
     },
     "user_tz": 480
    },
    "id": "hdEV_-hznpCD",
    "outputId": "f0205061-35a2-46db-ec01-a18238ba3423"
   },
   "outputs": [],
   "source": [
    "data[\"saturation\"] = data.groupby([ \"ktas_expert\"])[\"saturation\"].transform(lambda x: x.fillna(x.mode()[0]))\n",
    "data.isnull().values.any()"
   ]
  },
  {
   "cell_type": "code",
   "execution_count": null,
   "metadata": {
    "executionInfo": {
     "elapsed": 8,
     "status": "aborted",
     "timestamp": 1699382373208,
     "user": {
      "displayName": "Sanath Hiremath",
      "userId": "07180903460356351243"
     },
     "user_tz": 480
    },
    "id": "w0mXp6RK0TVp"
   },
   "outputs": [],
   "source": [
    "\n"
   ]
  },
  {
   "cell_type": "code",
   "execution_count": null,
   "metadata": {
    "tags": []
   },
   "outputs": [],
   "source": [
    "# for column in data.columns:\n",
    "#     # Check if the column is non-numeric (categorical or discrete)\n",
    "#     if data[column].dtype == \"object\" or data[column].dtype == \"int64\":\n",
    "#         # Count the occurrences of each unique value in the column\n",
    "#         value_counts = data[column].value_counts()\n",
    "\n",
    "#         # Create a bar plot\n",
    "#         plt.figure(figsize=(8, 4))  # Adjust the figure size as needed\n",
    "#         sns.barplot(x=value_counts.index, y=value_counts.values)\n",
    "#         plt.title(f'Bar Plot for {column}')\n",
    "#         plt.xlabel(column)\n",
    "#         plt.ylabel('Count')\n",
    "#         plt.xticks(rotation=45)  # Rotate x-axis labels if necessary\n",
    "\n",
    "#         # Show the plot\n",
    "#         plt.show()"
   ]
  },
  {
   "cell_type": "code",
   "execution_count": null,
   "metadata": {
    "executionInfo": {
     "elapsed": 9,
     "status": "aborted",
     "timestamp": 1699382373209,
     "user": {
      "displayName": "Sanath Hiremath",
      "userId": "07180903460356351243"
     },
     "user_tz": 480
    },
    "id": "ArlYVPETB-FW"
   },
   "outputs": [],
   "source": [
    "# strings = [x for x in data['sbp'] if type(x) is str]\n",
    "# len(strings)"
   ]
  },
  {
   "cell_type": "code",
   "execution_count": null,
   "metadata": {
    "executionInfo": {
     "elapsed": 8,
     "status": "aborted",
     "timestamp": 1699382373209,
     "user": {
      "displayName": "Sanath Hiremath",
      "userId": "07180903460356351243"
     },
     "user_tz": 480
    },
    "id": "9XzDXMMcbbwB"
   },
   "outputs": [],
   "source": [
    "data['nrs_pain'] = data['nrs_pain'].fillna(data['nrs_pain'].median())\n",
    "data['sbp'] = data['sbp'].fillna(data['sbp'].median())\n",
    "\n",
    "data['dbp'] = data['dbp'].fillna(data['dbp'].median())\n",
    "data['hr'] = data['hr'].fillna(data['hr'].median())\n",
    "data['rr'] = data['rr'].fillna(data['rr'].median())\n",
    "\n",
    "data['bt'] = data['bt'].fillna(data['bt'].median())\n",
    "data['saturation'] = data['saturation'].fillna(data['saturation'].median())\n",
    "misno.bar(data)"
   ]
  },
  {
   "cell_type": "code",
   "execution_count": null,
   "metadata": {},
   "outputs": [],
   "source": [
    "data.drop(columns=data_imputation, inplace=True)"
   ]
  },
  {
   "cell_type": "code",
   "execution_count": null,
   "metadata": {
    "executionInfo": {
     "elapsed": 8,
     "status": "aborted",
     "timestamp": 1699382373209,
     "user": {
      "displayName": "Sanath Hiremath",
      "userId": "07180903460356351243"
     },
     "user_tz": 480
    },
    "id": "Hzy9sFDSc7U9"
   },
   "outputs": [],
   "source": [
    "correlation_matrix = data.corr(method='pearson')\n",
    "\n",
    "plt.figure(figsize=(20, 8))\n",
    "sns.heatmap(correlation_matrix, annot=True, cmap='coolwarm', linewidths=.5)\n",
    "plt.title('Correlation Matrix')\n",
    "plt.show()"
   ]
  },
  {
   "cell_type": "code",
   "execution_count": null,
   "metadata": {
    "executionInfo": {
     "elapsed": 8,
     "status": "aborted",
     "timestamp": 1699382373209,
     "user": {
      "displayName": "Sanath Hiremath",
      "userId": "07180903460356351243"
     },
     "user_tz": 480
    },
    "id": "CYccNUCkOhg-"
   },
   "outputs": [],
   "source": [
    "count = data['hospitalized'].value_counts()\n",
    "print(count)"
   ]
  },
  {
   "cell_type": "code",
   "execution_count": null,
   "metadata": {
    "tags": []
   },
   "outputs": [],
   "source": [
    "data.isnull().values.any()"
   ]
  },
  {
   "cell_type": "markdown",
   "metadata": {},
   "source": [
    "#### Model Training "
   ]
  },
  {
   "cell_type": "code",
   "execution_count": null,
   "metadata": {
    "tags": []
   },
   "outputs": [],
   "source": [
    "from imblearn.over_sampling import SMOTE"
   ]
  },
  {
   "cell_type": "code",
   "execution_count": null,
   "metadata": {
    "executionInfo": {
     "elapsed": 9,
     "status": "aborted",
     "timestamp": 1699382373210,
     "user": {
      "displayName": "Sanath Hiremath",
      "userId": "07180903460356351243"
     },
     "user_tz": 480
    },
    "id": "Da2M81O6ikdV"
   },
   "outputs": [],
   "source": [
    "X = data.drop('hospitalized', axis=1)\n",
    "y = data[['hospitalized']]\n",
    "\n",
    "\n",
    "smote = SMOTE(sampling_strategy='auto')\n",
    "X_resampled, y_resampled = smote.fit_resample(X, y)\n",
    "\n",
    "X_train, X_test, y_train, y_test = train_test_split(X_resampled, y_resampled, test_size=0.2, random_state = 72)\n",
    "# X_train, X_test, y_train, y_test = train_test_split(X, y, test_size=0.2, random_state = 62)\n",
    "\n",
    "\n",
    "\n",
    "# NB = GaussianNB().fit(X_train, y_train)\n",
    "\n",
    "\n",
    "# svm = SVC(random_state=357,gamma='auto').fit(X_train, y_train)\n",
    "\n",
    "\n",
    "\n",
    "\n"
   ]
  },
  {
   "cell_type": "code",
   "execution_count": null,
   "metadata": {
    "tags": []
   },
   "outputs": [],
   "source": [
    "# Import necessary libraries\n",
    "import pandas as pd\n",
    "import numpy as np\n",
    "from sklearn.model_selection import train_test_split\n",
    "from sklearn.naive_bayes import GaussianNB\n",
    "from sklearn.svm import SVC\n",
    "import seaborn as sns\n",
    "import matplotlib.pyplot as plt\n",
    "import re\n",
    "import string\n",
    "from imblearn.over_sampling import SMOTE\n",
    "from sklearn.metrics import accuracy_score\n",
    "from sklearn.model_selection import GridSearchCV\n",
    "from sklearn.preprocessing import StandardScaler\n",
    "from sklearn.preprocessing import OneHotEncoder\n",
    "from sklearn.feature_selection import SelectKBest, chi2\n",
    "\n",
    "# Your code for reading the dataset remains the same.\n",
    "data = pd.read_csv(\"Dataset.csv\")\n",
    "\n",
    "\n",
    "columns_to_drop = ['Chief_complain', 'Diagnosis in ED','Error_group', 'KTAS duration_min', 'mistriage','Group','Patients number per hour','Length of stay_min']\n",
    "\n",
    "data.drop(columns=columns_to_drop, inplace=True)\n",
    "data = data.rename(columns={'Disposition':'hospitalized','Arrival mode':'arrivalmode'})\n",
    "data.columns = [col.lower() for col in data.columns]\n",
    "data.head()\n",
    "columns_to_clean = ['nrs_pain', 'sbp', 'dbp', 'hr', 'rr', 'bt', 'saturation']\n",
    "\n",
    "# Loop through the columns and apply cleaning and conversion\n",
    "for column in columns_to_clean:\n",
    "    data[column] = data[column].replace({'#BOŞ!': np.NaN, '??': np.NaN}).astype(float)\n",
    "\n",
    "# Perform one-hot encoding for categorical features\n",
    "categorical_features = ['arrivalmode', 'sex', 'injury', 'ktas_expert']\n",
    "data = pd.get_dummies(data, columns=categorical_features, drop_first=True)\n",
    "\n",
    "# Feature scaling for numerical features\n",
    "numerical_features = ['nrs_pain', 'sbp', 'dbp', 'hr', 'rr', 'bt', 'saturation']\n",
    "scaler = StandardScaler()\n",
    "data[numerical_features] = scaler.fit_transform(data[numerical_features])\n",
    "data.isnull().values.any()\n",
    "misno.bar(data)"
   ]
  },
  {
   "cell_type": "code",
   "execution_count": null,
   "metadata": {
    "tags": []
   },
   "outputs": [],
   "source": [
    "# Feature selection using chi-squared test\n",
    "X = data.drop('hospitalized', axis=1)\n",
    "y = data['hospitalized']\n",
    "selector = SelectKBest(chi2, k=10)\n",
    "X_new = selector.fit_transform(X, y)\n",
    "selected_features = X.columns[selector.get_support()]\n",
    "data = pd.concat([data['hospitalized'], data[selected_features]], axis=1)\n",
    "\n",
    "# Split the dataset into training and testing sets\n",
    "X_resampled, y_resampled = smote.fit_resample(data.drop('hospitalized', axis=1), data['hospitalized'])\n",
    "X_train, X_test, y_train, y_test = train_test_split(X_resampled, y_resampled, test_size=0.2, random_state=72)\n",
    "\n",
    "# Hyperparameter tuning for SVM (as shown in the previous response)\n",
    "\n",
    "# Model training and evaluation (as shown in the previous response)"
   ]
  },
  {
   "cell_type": "code",
   "execution_count": null,
   "metadata": {
    "tags": []
   },
   "outputs": [],
   "source": []
  },
  {
   "cell_type": "code",
   "execution_count": null,
   "metadata": {
    "tags": []
   },
   "outputs": [],
   "source": [
    "from sklearn.metrics import accuracy_score\n",
    "from sklearn.model_selection import GridSearchCV\n",
    "# Hyperparameter tuning for SVM\n",
    "param_grid = {\n",
    "    'C': [0.1, 1, 10],\n",
    "    'kernel': ['linear', 'rbf'],\n",
    "    'gamma': ['scale', 'auto']\n",
    "}\n",
    "\n",
    "svm = SVC(random_state=357)\n",
    "svm_grid = GridSearchCV(svm, param_grid, cv=5)\n",
    "svm_grid.fit(X_train, y_train)\n",
    "\n",
    "# Get the best SVM model from the grid search\n",
    "best_svm = svm_grid.best_estimator_\n",
    "\n",
    "# Train the best SVM model\n",
    "best_svm.fit(X_train, y_train)\n",
    "\n",
    "# Make predictions\n",
    "svm_predictions = best_svm.predict(X_test)\n",
    "\n",
    "# Calculate accuracy\n",
    "accuracy = accuracy_score(y_test, svm_predictions)\n",
    "print(f\"Accuracy: {accuracy * 100:.2f}%\")"
   ]
  },
  {
   "cell_type": "code",
   "execution_count": null,
   "metadata": {
    "tags": []
   },
   "outputs": [],
   "source": [
    "\n",
    "X_resampled.info()\n",
    "y_resampled.info()\n",
    "\n",
    "\n",
    "count = y_resampled['hospitalized'].value_counts()\n",
    "print(count)"
   ]
  },
  {
   "cell_type": "code",
   "execution_count": null,
   "metadata": {
    "tags": []
   },
   "outputs": [],
   "source": [
    "NB = GaussianNB().fit(X_resampled, y_resampled)\n",
    "\n",
    "\n",
    "svm = SVC(random_state=357,gamma='auto').fit(X_resampled, y_resampled)"
   ]
  },
  {
   "cell_type": "code",
   "execution_count": null,
   "metadata": {
    "executionInfo": {
     "elapsed": 9,
     "status": "aborted",
     "timestamp": 1699382373210,
     "user": {
      "displayName": "Sanath Hiremath",
      "userId": "07180903460356351243"
     },
     "user_tz": 480
    },
    "id": "ArvgBoeyab8H"
   },
   "outputs": [],
   "source": [
    "from sklearn.metrics import accuracy_score\n",
    "models = [\n",
    "          (\"NB\", NB),\n",
    "          (\"SVM\", svm),\n",
    "         ]\n",
    "\n",
    "for name, model in models:\n",
    "    y_pred = model.predict(X_test)\n",
    "    acc = accuracy_score(y_test, y_pred)\n",
    "    msg = \"%s: (%f)\" % (name, acc)\n",
    "    print(msg)"
   ]
  },
  {
   "cell_type": "code",
   "execution_count": null,
   "metadata": {
    "executionInfo": {
     "elapsed": 9,
     "status": "aborted",
     "timestamp": 1699382373210,
     "user": {
      "displayName": "Sanath Hiremath",
      "userId": "07180903460356351243"
     },
     "user_tz": 480
    },
    "id": "wRoSwIaybHP9"
   },
   "outputs": [],
   "source": [
    "import numpy as np\n",
    "from sklearn.metrics import accuracy_score\n",
    "\n",
    "# Make predictions on the test set\n",
    "y_pred_NB = NB.predict(X_test)\n",
    "y_pred_SVM = svm.predict(X_test)\n",
    "\n",
    "# Calculate the accuracy of each model\n",
    "accuracy_NB = accuracy_score(y_test, y_pred_NB)\n",
    "accuracy_SVM = accuracy_score(y_test, y_pred_SVM)\n",
    "\n",
    "# Multiply the accuracy by 100 to get the percentage accuracy\n",
    "percentage_accuracy_NB = accuracy_NB * 100\n",
    "percentage_accuracy_SVM = accuracy_SVM * 100\n",
    "\n",
    "# Print the percentage accuracy of each model\n",
    "print(\"Percentage accuracy of NB:\", percentage_accuracy_NB)\n",
    "print(\"Percentage accuracy of SVC:\", percentage_accuracy_SVM)\n"
   ]
  }
 ],
 "metadata": {
  "accelerator": "GPU",
  "colab": {
   "authorship_tag": "ABX9TyOyeoJdQRiNBavKu0J6Nlwk",
   "gpuType": "T4",
   "mount_file_id": "1URELE5LrEcT9pH1Jl4nsscCL2X8fZ8hr",
   "provenance": []
  },
  "kernelspec": {
   "display_name": "Python 3 (ipykernel)",
   "language": "python",
   "name": "python3"
  },
  "language_info": {
   "codemirror_mode": {
    "name": "ipython",
    "version": 3
   },
   "file_extension": ".py",
   "mimetype": "text/x-python",
   "name": "python",
   "nbconvert_exporter": "python",
   "pygments_lexer": "ipython3",
   "version": "3.11.5"
  }
 },
 "nbformat": 4,
 "nbformat_minor": 4
}
